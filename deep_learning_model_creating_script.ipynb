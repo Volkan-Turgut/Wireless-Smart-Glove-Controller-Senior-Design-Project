{
  "nbformat": 4,
  "nbformat_minor": 0,
  "metadata": {
    "colab": {
      "provenance": []
    },
    "kernelspec": {
      "name": "python3",
      "display_name": "Python 3"
    },
    "language_info": {
      "name": "python"
    }
  },
  "cells": [
    {
      "cell_type": "code",
      "execution_count": null,
      "metadata": {
        "id": "zP84T25oUWZp"
      },
      "outputs": [],
      "source": [
        "import pandas as pd\n",
        "from sklearn.model_selection import train_test_split\n",
        "\n",
        "# Load data from CSV file into a DataFrame\n",
        "df = pd.read_csv(\"/content/final_dataset_excel.csv\",header=0)\n",
        "\n",
        "\n",
        "# Split the data into input and output\n",
        "x = df.iloc[:, :5].values\n",
        "y = df.iloc[:, 5].values\n",
        "\n",
        "\n",
        "# Split the data into training and testing sets\n",
        "x_train, x_test, y_train, y_test = train_test_split(x, y, test_size=0.2, random_state=42)"
      ]
    },
    {
      "cell_type": "code",
      "source": [
        "import tensorflow.compat.v1 as tf\n",
        "tf.disable_v2_behavior()\n",
        "\n",
        "import tensorflow as tf\n",
        "from tensorflow.keras.models import Sequential\n",
        "from tensorflow.keras.layers import Dense\n",
        "\n",
        "# Define the deep learning model\n",
        "model = Sequential()\n",
        "model.add(Dense(16, input_dim=5, activation='relu'))\n",
        "model.add(Dense(32, input_dim=5, activation='relu'))\n",
        "model.add(Dense(128, input_dim=5, activation='relu'))\n",
        "model.add(Dense(9, activation='softmax'))\n",
        "# Compile the model\n",
        "model.compile(optimizer='adam', loss='categorical_crossentropy', metrics=['accuracy'])\n"
      ],
      "metadata": {
        "id": "bQzEe4f0evEP"
      },
      "execution_count": null,
      "outputs": []
    },
    {
      "cell_type": "code",
      "source": [
        "from keras.utils import to_categorical\n",
        "y_binary = to_categorical(y_train,num_classes=9)\n",
        "print(y_train.shape)\n",
        "print(y_binary.shape)\n",
        "\n",
        "print(x_train.shape)\n",
        "# Train the model\n",
        "model.fit(x_train, y_binary, epochs=40, batch_size=32)\n",
        "\n",
        "# Evaluate the model\n",
        "y_test_binary = to_categorical(y_test)\n",
        "loss, accuracy = model.evaluate(x_test, y_test_binary)\n",
        "print('Test accuracy:', accuracy)\n",
        "import numpy as np\n",
        "\n",
        "# Get the model weights\n",
        "weights = model.get_weights()\n",
        "\n",
        "# Calculate the total size of the weights in bytes\n",
        "total_size = sum([np.prod(w.shape) * w.dtype.itemsize for w in weights])\n",
        "\n",
        "print(\"Model size in bytes: {:.2f} KB\".format(total_size/1024))"
      ],
      "metadata": {
        "colab": {
          "base_uri": "https://localhost:8080/"
        },
        "id": "9mh-x8KXAx5p",
        "outputId": "09c46488-afb6-4daf-832c-8568c2b72296"
      },
      "execution_count": null,
      "outputs": [
        {
          "output_type": "stream",
          "name": "stdout",
          "text": [
            "(989,)\n",
            "(989, 9)\n",
            "(989, 5)\n",
            "Train on 989 samples\n",
            "Epoch 1/40\n",
            "989/989 [==============================] - 0s 142us/sample - loss: 230.3207 - acc: 0.1416\n",
            "Epoch 2/40\n",
            "989/989 [==============================] - 0s 48us/sample - loss: 21.1852 - acc: 0.4024\n",
            "Epoch 3/40\n",
            "989/989 [==============================] - 0s 43us/sample - loss: 5.0586 - acc: 0.6431\n",
            "Epoch 4/40\n",
            "989/989 [==============================] - 0s 41us/sample - loss: 2.2451 - acc: 0.7836\n",
            "Epoch 5/40\n",
            "989/989 [==============================] - 0s 58us/sample - loss: 1.1073 - acc: 0.8423\n",
            "Epoch 6/40\n",
            "989/989 [==============================] - 0s 50us/sample - loss: 0.8763 - acc: 0.8736\n",
            "Epoch 7/40\n",
            "989/989 [==============================] - 0s 73us/sample - loss: 0.8581 - acc: 0.9080\n",
            "Epoch 8/40\n",
            "989/989 [==============================] - 0s 48us/sample - loss: 0.2501 - acc: 0.9444\n",
            "Epoch 9/40\n",
            "989/989 [==============================] - 0s 44us/sample - loss: 0.1360 - acc: 0.9707\n",
            "Epoch 10/40\n",
            "989/989 [==============================] - 0s 54us/sample - loss: 0.0501 - acc: 0.9869\n",
            "Epoch 11/40\n",
            "989/989 [==============================] - 0s 46us/sample - loss: 0.0467 - acc: 0.9828\n",
            "Epoch 12/40\n",
            "989/989 [==============================] - 0s 50us/sample - loss: 0.0200 - acc: 0.9990\n",
            "Epoch 13/40\n",
            "989/989 [==============================] - 0s 44us/sample - loss: 0.0374 - acc: 0.9909\n",
            "Epoch 14/40\n",
            "989/989 [==============================] - 0s 42us/sample - loss: 0.0297 - acc: 0.9970\n",
            "Epoch 15/40\n",
            "989/989 [==============================] - 0s 44us/sample - loss: 0.0353 - acc: 0.9919\n",
            "Epoch 16/40\n",
            "989/989 [==============================] - 0s 54us/sample - loss: 0.3501 - acc: 0.9515\n",
            "Epoch 17/40\n",
            "989/989 [==============================] - 0s 50us/sample - loss: 1.4052 - acc: 0.8736\n",
            "Epoch 18/40\n",
            "989/989 [==============================] - 0s 42us/sample - loss: 1.1847 - acc: 0.8251\n",
            "Epoch 19/40\n",
            "989/989 [==============================] - 0s 46us/sample - loss: 0.8202 - acc: 0.8756\n",
            "Epoch 20/40\n",
            "989/989 [==============================] - 0s 43us/sample - loss: 0.1528 - acc: 0.9697\n",
            "Epoch 21/40\n",
            "989/989 [==============================] - 0s 53us/sample - loss: 0.1835 - acc: 0.9575\n",
            "Epoch 22/40\n",
            "989/989 [==============================] - 0s 63us/sample - loss: 0.0898 - acc: 0.9869\n",
            "Epoch 23/40\n",
            "989/989 [==============================] - 0s 53us/sample - loss: 0.1169 - acc: 0.9767\n",
            "Epoch 24/40\n",
            "989/989 [==============================] - 0s 40us/sample - loss: 0.0392 - acc: 0.9919\n",
            "Epoch 25/40\n",
            "989/989 [==============================] - 0s 46us/sample - loss: 0.1419 - acc: 0.9697\n",
            "Epoch 26/40\n",
            "989/989 [==============================] - 0s 44us/sample - loss: 0.0386 - acc: 0.9899\n",
            "Epoch 27/40\n",
            "989/989 [==============================] - 0s 47us/sample - loss: 0.1000 - acc: 0.9818\n",
            "Epoch 28/40\n",
            "989/989 [==============================] - 0s 44us/sample - loss: 0.3228 - acc: 0.9656\n",
            "Epoch 29/40\n",
            "989/989 [==============================] - 0s 55us/sample - loss: 0.0185 - acc: 0.9949\n",
            "Epoch 30/40\n",
            "989/989 [==============================] - 0s 56us/sample - loss: 0.0446 - acc: 0.9939\n",
            "Epoch 31/40\n",
            "989/989 [==============================] - 0s 46us/sample - loss: 0.0250 - acc: 0.9980\n",
            "Epoch 32/40\n",
            "989/989 [==============================] - 0s 55us/sample - loss: 0.0265 - acc: 0.9929\n",
            "Epoch 33/40\n",
            "989/989 [==============================] - 0s 38us/sample - loss: 0.1858 - acc: 0.9767\n",
            "Epoch 34/40\n",
            "989/989 [==============================] - 0s 42us/sample - loss: 0.0748 - acc: 0.9949\n",
            "Epoch 35/40\n",
            "989/989 [==============================] - 0s 42us/sample - loss: 0.0539 - acc: 0.9929\n",
            "Epoch 36/40\n",
            "989/989 [==============================] - 0s 43us/sample - loss: 0.0853 - acc: 0.9879\n",
            "Epoch 37/40\n",
            "989/989 [==============================] - 0s 52us/sample - loss: 0.0987 - acc: 0.9858\n",
            "Epoch 38/40\n",
            "989/989 [==============================] - 0s 53us/sample - loss: 0.0121 - acc: 0.9980\n",
            "Epoch 39/40\n",
            "989/989 [==============================] - 0s 50us/sample - loss: 0.1066 - acc: 0.9828\n",
            "Epoch 40/40\n",
            "989/989 [==============================] - 0s 56us/sample - loss: 0.2233 - acc: 0.9585\n"
          ]
        },
        {
          "output_type": "stream",
          "name": "stderr",
          "text": [
            "/usr/local/lib/python3.10/dist-packages/keras/engine/training_v1.py:2335: UserWarning: `Model.state_updates` will be removed in a future version. This property should not be used in TensorFlow 2.0, as `updates` are applied automatically.\n",
            "  updates = self.state_updates\n"
          ]
        },
        {
          "output_type": "stream",
          "name": "stdout",
          "text": [
            "Test accuracy: 0.9919355\n",
            "Model size in bytes: 23.54 KB\n"
          ]
        }
      ]
    },
    {
      "cell_type": "code",
      "source": [
        "griezzman_input=np.array([2890,3414,3268,2770,2353])\n",
        "peace_input=np.array([2928,3055,2532,3110,3169])\n",
        "spiderman_input=np.array([2988,3415,2592,2587,2586])\n",
        "rabbit_input=np.array([2346,3097,3205,2908,2387])\n",
        "fist_input=np.array([3134,3521,3362,3259,3465])\n",
        "\n",
        "# Reshape the input data to have the same shape as the model input\n",
        "input_data = griezzman_input.reshape(1, -1)\n",
        "\n",
        "# Predict the output probabilities\n",
        "output_probs = model.predict(input_data)\n",
        "\n",
        "# Get the predicted class label\n",
        "predicted_class = output_probs.argmax(axis=-1)\n",
        "#print('Predicted class:', predicted_class[0])\n",
        "#print(type(predicted_class[0]))\n",
        "# Print the predicted class label\n",
        "if(predicted_class[0]==0):\n",
        "    print(\"yumruk\")     #yumruk\n",
        "if(predicted_class[0]==1):\n",
        "    print(\"tavsan\")     #tavsan\n",
        "if(predicted_class[0]==2):\n",
        "    print(\"spiderman\")  #griezmann\n",
        "if(predicted_class[0]==3):\n",
        "    print(\"griezmann\")\n",
        "if(predicted_class[0]==4):\n",
        "    print(\"peace\")      #griezmann input"
      ],
      "metadata": {
        "id": "qioHj8IqCeWS",
        "colab": {
          "base_uri": "https://localhost:8080/"
        },
        "outputId": "246b56e6-42d6-4100-8814-e49f55e22743"
      },
      "execution_count": null,
      "outputs": [
        {
          "output_type": "stream",
          "name": "stdout",
          "text": [
            "peace\n"
          ]
        },
        {
          "output_type": "stream",
          "name": "stderr",
          "text": [
            "/usr/local/lib/python3.10/dist-packages/keras/engine/training_v1.py:2359: UserWarning: `Model.state_updates` will be removed in a future version. This property should not be used in TensorFlow 2.0, as `updates` are applied automatically.\n",
            "  updates=self.state_updates,\n"
          ]
        }
      ]
    },
    {
      "cell_type": "code",
      "source": [
        "model.save(\"smart_glove_final.h5\")"
      ],
      "metadata": {
        "id": "06JathudmMLX"
      },
      "execution_count": null,
      "outputs": []
    },
    {
      "cell_type": "code",
      "source": [
        "converter=tf.lite.TFLiteConverter.from_keras_model(model)\n",
        "converter.optimizations = [tf.lite.Optimize.DEFAULT]\n",
        "tflite_model=converter.convert()\n",
        "\n",
        "with open('smart_glove_final.tflite', 'wb') as f:\n",
        "    f.write(tflite_model)\n",
        "from google.colab import files\n",
        "\n",
        "files.download('smart_glove_final.tflite')"
      ],
      "metadata": {
        "colab": {
          "base_uri": "https://localhost:8080/",
          "height": 17
        },
        "id": "wCgFNZ3fm2EP",
        "outputId": "a1ca59a6-90a6-4790-b5c5-9088a293597a"
      },
      "execution_count": null,
      "outputs": [
        {
          "output_type": "display_data",
          "data": {
            "text/plain": [
              "<IPython.core.display.Javascript object>"
            ],
            "application/javascript": [
              "\n",
              "    async function download(id, filename, size) {\n",
              "      if (!google.colab.kernel.accessAllowed) {\n",
              "        return;\n",
              "      }\n",
              "      const div = document.createElement('div');\n",
              "      const label = document.createElement('label');\n",
              "      label.textContent = `Downloading \"${filename}\": `;\n",
              "      div.appendChild(label);\n",
              "      const progress = document.createElement('progress');\n",
              "      progress.max = size;\n",
              "      div.appendChild(progress);\n",
              "      document.body.appendChild(div);\n",
              "\n",
              "      const buffers = [];\n",
              "      let downloaded = 0;\n",
              "\n",
              "      const channel = await google.colab.kernel.comms.open(id);\n",
              "      // Send a message to notify the kernel that we're ready.\n",
              "      channel.send({})\n",
              "\n",
              "      for await (const message of channel.messages) {\n",
              "        // Send a message to notify the kernel that we're ready.\n",
              "        channel.send({})\n",
              "        if (message.buffers) {\n",
              "          for (const buffer of message.buffers) {\n",
              "            buffers.push(buffer);\n",
              "            downloaded += buffer.byteLength;\n",
              "            progress.value = downloaded;\n",
              "          }\n",
              "        }\n",
              "      }\n",
              "      const blob = new Blob(buffers, {type: 'application/binary'});\n",
              "      const a = document.createElement('a');\n",
              "      a.href = window.URL.createObjectURL(blob);\n",
              "      a.download = filename;\n",
              "      div.appendChild(a);\n",
              "      a.click();\n",
              "      div.remove();\n",
              "    }\n",
              "  "
            ]
          },
          "metadata": {}
        },
        {
          "output_type": "display_data",
          "data": {
            "text/plain": [
              "<IPython.core.display.Javascript object>"
            ],
            "application/javascript": [
              "download(\"download_3ac98891-19d9-45e3-8ea1-a8ca6e738441\", \"smart_glove_final.tflite\", 11112)"
            ]
          },
          "metadata": {}
        }
      ]
    }
  ]
}